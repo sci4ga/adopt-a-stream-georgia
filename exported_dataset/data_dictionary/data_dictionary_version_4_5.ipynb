{
  "cells": [
    {
      "cell_type": "markdown",
      "metadata": {
        "id": "view-in-github",
        "colab_type": "text"
      },
      "source": [
        "<a href=\"https://colab.research.google.com/github/gingyy/adopt-a-stream-georgia/blob/main/data_dictionary_version_4_5.ipynb\" target=\"_parent\"><img src=\"https://colab.research.google.com/assets/colab-badge.svg\" alt=\"Open In Colab\"/></a>"
      ]
    },
    {
      "cell_type": "code",
      "execution_count": 1,
      "metadata": {
        "colab": {
          "base_uri": "https://localhost:8080/",
          "height": 73,
          "resources": {
            "http://localhost:8080/nbextensions/google.colab/files.js": {
              "data": "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",
              "headers": [
                [
                  "content-type",
                  "application/javascript"
                ]
              ],
              "ok": true,
              "status": 200,
              "status_text": ""
            }
          }
        },
        "id": "E8MUmG4W3_tI",
        "outputId": "ab71f3c8-11fa-404a-dca7-7507325fea04"
      },
      "outputs": [
        {
          "output_type": "display_data",
          "data": {
            "text/plain": [
              "<IPython.core.display.HTML object>"
            ],
            "text/html": [
              "\n",
              "     <input type=\"file\" id=\"files-82cd259b-cd2e-4c1c-9b46-eced3ad69c7d\" name=\"files[]\" multiple disabled\n",
              "        style=\"border:none\" />\n",
              "     <output id=\"result-82cd259b-cd2e-4c1c-9b46-eced3ad69c7d\">\n",
              "      Upload widget is only available when the cell has been executed in the\n",
              "      current browser session. Please rerun this cell to enable.\n",
              "      </output>\n",
              "      <script src=\"/nbextensions/google.colab/files.js\"></script> "
            ]
          },
          "metadata": {}
        },
        {
          "output_type": "stream",
          "name": "stdout",
          "text": [
            "Saving export_dataframe_stage2.csv to export_dataframe_stage2.csv\n"
          ]
        }
      ],
      "source": [
        "from google.colab import files\n",
        "uploaded = files.upload()"
      ]
    },
    {
      "cell_type": "code",
      "execution_count": 2,
      "metadata": {
        "colab": {
          "base_uri": "https://localhost:8080/"
        },
        "id": "zbjWi9Qh4-xp",
        "outputId": "f824a330-18d6-4de6-aab2-88a19b88e3d2"
      },
      "outputs": [
        {
          "output_type": "stream",
          "name": "stderr",
          "text": [
            "/usr/local/lib/python3.7/dist-packages/IPython/core/interactiveshell.py:2882: DtypeWarning: Columns (14,20,21,23,24,31,32,33,35,36,56,63,64,65,72,73,74,77,78,79,86,87,88) have mixed types.Specify dtype option on import or set low_memory=False.\n",
            "  exec(code_obj, self.user_global_ns, self.user_ns)\n"
          ]
        }
      ],
      "source": [
        "import io\n",
        "import datetime\n",
        "import pandas as pd\n",
        "import matplotlib.pyplot as plt\n",
        "\n",
        "df = pd.read_csv(io.BytesIO(uploaded['export_dataframe_stage2.csv'])) #replace with file name"
      ]
    },
    {
      "cell_type": "markdown",
      "metadata": {
        "id": "OYaMgeaPeGGP"
      },
      "source": [
        "# Group 1 Data Dictionary (version 4/5/22)"
      ]
    },
    {
      "cell_type": "code",
      "execution_count": 3,
      "metadata": {
        "id": "HPXwkiDG7Pwq",
        "colab": {
          "base_uri": "https://localhost:8080/",
          "height": 629
        },
        "outputId": "7acf350d-b738-4f1f-8895-3aa856d20d62"
      },
      "outputs": [
        {
          "output_type": "execute_result",
          "data": {
            "text/plain": [
              "   group_rid                                          GroupName  site_rid  \\\n",
              "0        840                                    Rails to Trails        18   \n",
              "1        840                                    Rails to Trails        18   \n",
              "2        297  Apalachee Water Watchers, Walton Clean & Beaut...        44   \n",
              "3        297  Apalachee Water Watchers, Walton Clean & Beaut...        44   \n",
              "4        297  Apalachee Water Watchers, Walton Clean & Beaut...        44   \n",
              "\n",
              "     state  county      lat     long                   SiteName  \\\n",
              "0  Georgia    Hall  34.4103 -83.8462  West Fork of Little River   \n",
              "1  Georgia    Hall  34.4103 -83.8462  West Fork of Little River   \n",
              "2  Georgia  Walton  33.8406 -83.5584            Apalachee River   \n",
              "3  Georgia  Walton  33.8406 -83.5584            Apalachee River   \n",
              "4  Georgia  Walton  33.8406 -83.5584            Apalachee River   \n",
              "\n",
              "        SiteLocation  event_rid  ... min_temp  max_temp  three_M_plate  \\\n",
              "0  34.4103  -83.8462         92  ...      NaN       NaN            NaN   \n",
              "1  34.4103  -83.8462         93  ...      NaN       NaN            NaN   \n",
              "2  33.8406  -83.5584         94  ...      NaN       NaN            NaN   \n",
              "3  33.8406  -83.5584         95  ...      NaN       NaN            NaN   \n",
              "4  33.8406  -83.5584         96  ...      NaN       NaN            NaN   \n",
              "\n",
              "   ecoli_idexx fecal_coliform ecoli_other  ecoli_other_unit  comments  \\\n",
              "0          NaN            NaN         NaN               NaN       NaN   \n",
              "1          NaN            NaN         NaN               NaN       NaN   \n",
              "2          NaN            NaN         NaN               NaN       NaN   \n",
              "3          NaN            NaN         NaN               NaN       NaN   \n",
              "4          NaN            NaN         NaN               NaN       NaN   \n",
              "\n",
              "   warnings                            wbd  \n",
              "0       NaN         West Fork Little River  \n",
              "1       NaN         West Fork Little River  \n",
              "2       NaN  Turkey Creek-Appalachee River  \n",
              "3       NaN  Turkey Creek-Appalachee River  \n",
              "4       NaN  Turkey Creek-Appalachee River  \n",
              "\n",
              "[5 rows x 90 columns]"
            ],
            "text/html": [
              "\n",
              "  <div id=\"df-467b2d8e-586b-4a28-bedb-c7109d75e3e8\">\n",
              "    <div class=\"colab-df-container\">\n",
              "      <div>\n",
              "<style scoped>\n",
              "    .dataframe tbody tr th:only-of-type {\n",
              "        vertical-align: middle;\n",
              "    }\n",
              "\n",
              "    .dataframe tbody tr th {\n",
              "        vertical-align: top;\n",
              "    }\n",
              "\n",
              "    .dataframe thead th {\n",
              "        text-align: right;\n",
              "    }\n",
              "</style>\n",
              "<table border=\"1\" class=\"dataframe\">\n",
              "  <thead>\n",
              "    <tr style=\"text-align: right;\">\n",
              "      <th></th>\n",
              "      <th>group_rid</th>\n",
              "      <th>GroupName</th>\n",
              "      <th>site_rid</th>\n",
              "      <th>state</th>\n",
              "      <th>county</th>\n",
              "      <th>lat</th>\n",
              "      <th>long</th>\n",
              "      <th>SiteName</th>\n",
              "      <th>SiteLocation</th>\n",
              "      <th>event_rid</th>\n",
              "      <th>...</th>\n",
              "      <th>min_temp</th>\n",
              "      <th>max_temp</th>\n",
              "      <th>three_M_plate</th>\n",
              "      <th>ecoli_idexx</th>\n",
              "      <th>fecal_coliform</th>\n",
              "      <th>ecoli_other</th>\n",
              "      <th>ecoli_other_unit</th>\n",
              "      <th>comments</th>\n",
              "      <th>warnings</th>\n",
              "      <th>wbd</th>\n",
              "    </tr>\n",
              "  </thead>\n",
              "  <tbody>\n",
              "    <tr>\n",
              "      <th>0</th>\n",
              "      <td>840</td>\n",
              "      <td>Rails to Trails</td>\n",
              "      <td>18</td>\n",
              "      <td>Georgia</td>\n",
              "      <td>Hall</td>\n",
              "      <td>34.4103</td>\n",
              "      <td>-83.8462</td>\n",
              "      <td>West Fork of Little River</td>\n",
              "      <td>34.4103  -83.8462</td>\n",
              "      <td>92</td>\n",
              "      <td>...</td>\n",
              "      <td>NaN</td>\n",
              "      <td>NaN</td>\n",
              "      <td>NaN</td>\n",
              "      <td>NaN</td>\n",
              "      <td>NaN</td>\n",
              "      <td>NaN</td>\n",
              "      <td>NaN</td>\n",
              "      <td>NaN</td>\n",
              "      <td>NaN</td>\n",
              "      <td>West Fork Little River</td>\n",
              "    </tr>\n",
              "    <tr>\n",
              "      <th>1</th>\n",
              "      <td>840</td>\n",
              "      <td>Rails to Trails</td>\n",
              "      <td>18</td>\n",
              "      <td>Georgia</td>\n",
              "      <td>Hall</td>\n",
              "      <td>34.4103</td>\n",
              "      <td>-83.8462</td>\n",
              "      <td>West Fork of Little River</td>\n",
              "      <td>34.4103  -83.8462</td>\n",
              "      <td>93</td>\n",
              "      <td>...</td>\n",
              "      <td>NaN</td>\n",
              "      <td>NaN</td>\n",
              "      <td>NaN</td>\n",
              "      <td>NaN</td>\n",
              "      <td>NaN</td>\n",
              "      <td>NaN</td>\n",
              "      <td>NaN</td>\n",
              "      <td>NaN</td>\n",
              "      <td>NaN</td>\n",
              "      <td>West Fork Little River</td>\n",
              "    </tr>\n",
              "    <tr>\n",
              "      <th>2</th>\n",
              "      <td>297</td>\n",
              "      <td>Apalachee Water Watchers, Walton Clean &amp; Beaut...</td>\n",
              "      <td>44</td>\n",
              "      <td>Georgia</td>\n",
              "      <td>Walton</td>\n",
              "      <td>33.8406</td>\n",
              "      <td>-83.5584</td>\n",
              "      <td>Apalachee River</td>\n",
              "      <td>33.8406  -83.5584</td>\n",
              "      <td>94</td>\n",
              "      <td>...</td>\n",
              "      <td>NaN</td>\n",
              "      <td>NaN</td>\n",
              "      <td>NaN</td>\n",
              "      <td>NaN</td>\n",
              "      <td>NaN</td>\n",
              "      <td>NaN</td>\n",
              "      <td>NaN</td>\n",
              "      <td>NaN</td>\n",
              "      <td>NaN</td>\n",
              "      <td>Turkey Creek-Appalachee River</td>\n",
              "    </tr>\n",
              "    <tr>\n",
              "      <th>3</th>\n",
              "      <td>297</td>\n",
              "      <td>Apalachee Water Watchers, Walton Clean &amp; Beaut...</td>\n",
              "      <td>44</td>\n",
              "      <td>Georgia</td>\n",
              "      <td>Walton</td>\n",
              "      <td>33.8406</td>\n",
              "      <td>-83.5584</td>\n",
              "      <td>Apalachee River</td>\n",
              "      <td>33.8406  -83.5584</td>\n",
              "      <td>95</td>\n",
              "      <td>...</td>\n",
              "      <td>NaN</td>\n",
              "      <td>NaN</td>\n",
              "      <td>NaN</td>\n",
              "      <td>NaN</td>\n",
              "      <td>NaN</td>\n",
              "      <td>NaN</td>\n",
              "      <td>NaN</td>\n",
              "      <td>NaN</td>\n",
              "      <td>NaN</td>\n",
              "      <td>Turkey Creek-Appalachee River</td>\n",
              "    </tr>\n",
              "    <tr>\n",
              "      <th>4</th>\n",
              "      <td>297</td>\n",
              "      <td>Apalachee Water Watchers, Walton Clean &amp; Beaut...</td>\n",
              "      <td>44</td>\n",
              "      <td>Georgia</td>\n",
              "      <td>Walton</td>\n",
              "      <td>33.8406</td>\n",
              "      <td>-83.5584</td>\n",
              "      <td>Apalachee River</td>\n",
              "      <td>33.8406  -83.5584</td>\n",
              "      <td>96</td>\n",
              "      <td>...</td>\n",
              "      <td>NaN</td>\n",
              "      <td>NaN</td>\n",
              "      <td>NaN</td>\n",
              "      <td>NaN</td>\n",
              "      <td>NaN</td>\n",
              "      <td>NaN</td>\n",
              "      <td>NaN</td>\n",
              "      <td>NaN</td>\n",
              "      <td>NaN</td>\n",
              "      <td>Turkey Creek-Appalachee River</td>\n",
              "    </tr>\n",
              "  </tbody>\n",
              "</table>\n",
              "<p>5 rows × 90 columns</p>\n",
              "</div>\n",
              "      <button class=\"colab-df-convert\" onclick=\"convertToInteractive('df-467b2d8e-586b-4a28-bedb-c7109d75e3e8')\"\n",
              "              title=\"Convert this dataframe to an interactive table.\"\n",
              "              style=\"display:none;\">\n",
              "        \n",
              "  <svg xmlns=\"http://www.w3.org/2000/svg\" height=\"24px\"viewBox=\"0 0 24 24\"\n",
              "       width=\"24px\">\n",
              "    <path d=\"M0 0h24v24H0V0z\" fill=\"none\"/>\n",
              "    <path d=\"M18.56 5.44l.94 2.06.94-2.06 2.06-.94-2.06-.94-.94-2.06-.94 2.06-2.06.94zm-11 1L8.5 8.5l.94-2.06 2.06-.94-2.06-.94L8.5 2.5l-.94 2.06-2.06.94zm10 10l.94 2.06.94-2.06 2.06-.94-2.06-.94-.94-2.06-.94 2.06-2.06.94z\"/><path d=\"M17.41 7.96l-1.37-1.37c-.4-.4-.92-.59-1.43-.59-.52 0-1.04.2-1.43.59L10.3 9.45l-7.72 7.72c-.78.78-.78 2.05 0 2.83L4 21.41c.39.39.9.59 1.41.59.51 0 1.02-.2 1.41-.59l7.78-7.78 2.81-2.81c.8-.78.8-2.07 0-2.86zM5.41 20L4 18.59l7.72-7.72 1.47 1.35L5.41 20z\"/>\n",
              "  </svg>\n",
              "      </button>\n",
              "      \n",
              "  <style>\n",
              "    .colab-df-container {\n",
              "      display:flex;\n",
              "      flex-wrap:wrap;\n",
              "      gap: 12px;\n",
              "    }\n",
              "\n",
              "    .colab-df-convert {\n",
              "      background-color: #E8F0FE;\n",
              "      border: none;\n",
              "      border-radius: 50%;\n",
              "      cursor: pointer;\n",
              "      display: none;\n",
              "      fill: #1967D2;\n",
              "      height: 32px;\n",
              "      padding: 0 0 0 0;\n",
              "      width: 32px;\n",
              "    }\n",
              "\n",
              "    .colab-df-convert:hover {\n",
              "      background-color: #E2EBFA;\n",
              "      box-shadow: 0px 1px 2px rgba(60, 64, 67, 0.3), 0px 1px 3px 1px rgba(60, 64, 67, 0.15);\n",
              "      fill: #174EA6;\n",
              "    }\n",
              "\n",
              "    [theme=dark] .colab-df-convert {\n",
              "      background-color: #3B4455;\n",
              "      fill: #D2E3FC;\n",
              "    }\n",
              "\n",
              "    [theme=dark] .colab-df-convert:hover {\n",
              "      background-color: #434B5C;\n",
              "      box-shadow: 0px 1px 3px 1px rgba(0, 0, 0, 0.15);\n",
              "      filter: drop-shadow(0px 1px 2px rgba(0, 0, 0, 0.3));\n",
              "      fill: #FFFFFF;\n",
              "    }\n",
              "  </style>\n",
              "\n",
              "      <script>\n",
              "        const buttonEl =\n",
              "          document.querySelector('#df-467b2d8e-586b-4a28-bedb-c7109d75e3e8 button.colab-df-convert');\n",
              "        buttonEl.style.display =\n",
              "          google.colab.kernel.accessAllowed ? 'block' : 'none';\n",
              "\n",
              "        async function convertToInteractive(key) {\n",
              "          const element = document.querySelector('#df-467b2d8e-586b-4a28-bedb-c7109d75e3e8');\n",
              "          const dataTable =\n",
              "            await google.colab.kernel.invokeFunction('convertToInteractive',\n",
              "                                                     [key], {});\n",
              "          if (!dataTable) return;\n",
              "\n",
              "          const docLinkHtml = 'Like what you see? Visit the ' +\n",
              "            '<a target=\"_blank\" href=https://colab.research.google.com/notebooks/data_table.ipynb>data table notebook</a>'\n",
              "            + ' to learn more about interactive tables.';\n",
              "          element.innerHTML = '';\n",
              "          dataTable['output_type'] = 'display_data';\n",
              "          await google.colab.output.renderOutput(dataTable, element);\n",
              "          const docLink = document.createElement('div');\n",
              "          docLink.innerHTML = docLinkHtml;\n",
              "          element.appendChild(docLink);\n",
              "        }\n",
              "      </script>\n",
              "    </div>\n",
              "  </div>\n",
              "  "
            ]
          },
          "metadata": {},
          "execution_count": 3
        }
      ],
      "source": [
        "rows = len(df)\n",
        "df.head()"
      ]
    },
    {
      "cell_type": "markdown",
      "metadata": {
        "id": "OAQ526Bfp8Ul"
      },
      "source": [
        "# group_rid"
      ]
    },
    {
      "cell_type": "markdown",
      "metadata": {
        "id": "5d9FIb7TtL8L"
      },
      "source": [
        "Numerical identifier associated with ```GroupName```\n",
        "* There are 992 distinct group_rid\n",
        "* No null values\n",
        "* All integers\n"
      ]
    },
    {
      "cell_type": "code",
      "execution_count": 4,
      "metadata": {
        "colab": {
          "base_uri": "https://localhost:8080/"
        },
        "id": "vLEPX7YS3_AA",
        "outputId": "4cc7ee5e-7bbb-4fce-d709-7716ec7be9d3"
      },
      "outputs": [
        {
          "output_type": "stream",
          "name": "stdout",
          "text": [
            "0\n",
            "992\n",
            "int64\n",
            "[]\n"
          ]
        }
      ],
      "source": [
        "print(df['group_rid'].isnull().sum()) # how many null values\n",
        "print(df['group_rid'].nunique()) # how many unique values\n",
        "\n",
        "print(df['group_rid'].dtypes)\n",
        "non_ints = []\n",
        "for val in df['group_rid']:\n",
        "    try:\n",
        "        int(val)\n",
        "    except TypeError:\n",
        "        non_ints.append(val)\n",
        "\n",
        "print(non_ints)"
      ]
    },
    {
      "cell_type": "markdown",
      "metadata": {
        "id": "OUN49uEOqKDB"
      },
      "source": [
        "# GroupName"
      ]
    },
    {
      "cell_type": "markdown",
      "metadata": {
        "id": "YXb36_HnvpEy"
      },
      "source": [
        "Name of citizen group who collected the associated data entry\n",
        "* 992 distinct group names\n",
        "* No null values\n",
        "* All strings"
      ]
    },
    {
      "cell_type": "code",
      "execution_count": 5,
      "metadata": {
        "colab": {
          "base_uri": "https://localhost:8080/"
        },
        "id": "jqBo3Khf7E3-",
        "outputId": "27b57aa4-24da-423f-cf6b-8266558b7813"
      },
      "outputs": [
        {
          "output_type": "stream",
          "name": "stdout",
          "text": [
            "0\n",
            "992\n",
            "object\n"
          ]
        }
      ],
      "source": [
        "print(df['GroupName'].isnull().sum()) # how many null values\n",
        "print(df['GroupName'].nunique()) # how many unique values\n",
        "\n",
        "print(df['GroupName'].dtypes)"
      ]
    },
    {
      "cell_type": "markdown",
      "metadata": {
        "id": "fSC0FMEIqO6Z"
      },
      "source": [
        "# site_rid"
      ]
    },
    {
      "cell_type": "markdown",
      "metadata": {
        "id": "TI5qRQXZvsIh"
      },
      "source": [
        "Numerical identifier associated with ```SiteLocation```\n",
        "* 2637 distinct values\n",
        "* No null values\n",
        "* All integers\n",
        "* Will further investigate if it corresponds to any geographical factors"
      ]
    },
    {
      "cell_type": "code",
      "execution_count": 6,
      "metadata": {
        "colab": {
          "base_uri": "https://localhost:8080/"
        },
        "id": "6EPKNUKN7N6T",
        "outputId": "683a5b9a-114c-4b2b-d4d9-751ddbe8a5ae"
      },
      "outputs": [
        {
          "output_type": "stream",
          "name": "stdout",
          "text": [
            "0\n",
            "2637\n",
            "int64\n",
            "[]\n"
          ]
        }
      ],
      "source": [
        "print(df['site_rid'].isnull().sum()) # how many null values\n",
        "print(df['site_rid'].nunique()) # how many unique values\n",
        "\n",
        "print(df['site_rid'].dtypes)\n",
        "non_ints = []\n",
        "for val in df['site_rid']:\n",
        "    try:\n",
        "        int(val)\n",
        "    except TypeError:\n",
        "        non_ints.append(val)\n",
        "\n",
        "print(non_ints)"
      ]
    },
    {
      "cell_type": "markdown",
      "metadata": {
        "id": "BbrhNYSeqaFg"
      },
      "source": [
        "# event_rid"
      ]
    },
    {
      "cell_type": "markdown",
      "metadata": {
        "id": "VAChyrp8wWFT"
      },
      "source": [
        "Numerical identifier associated with ```event_date```\n",
        "* Effectively an index for each entry \n",
        "* Does not appear to be chronological\n",
        "* Unique value for each data entry\n",
        "* Appears to skips values at random\n",
        "* 59598 entries\n",
        "* All integers"
      ]
    },
    {
      "cell_type": "code",
      "execution_count": 7,
      "metadata": {
        "colab": {
          "base_uri": "https://localhost:8080/"
        },
        "id": "1D67CG4o7hS5",
        "outputId": "3d99c9c3-e254-4dc9-8645-70a5eea9bcf1"
      },
      "outputs": [
        {
          "output_type": "stream",
          "name": "stdout",
          "text": [
            "0\n",
            "59598\n",
            "100.0\n",
            "int64\n",
            "[]\n"
          ]
        }
      ],
      "source": [
        "print(df['event_rid'].isnull().sum()) # how many null values\n",
        "print(df['event_rid'].nunique()) # how many unique values\n",
        "print(df['event_rid'].nunique()/(rows)*100) # percentage unique values\n",
        "\n",
        "print(df['event_rid'].dtypes)\n",
        "non_ints = []\n",
        "for val in df['event_rid']:\n",
        "    try:\n",
        "        int(val)\n",
        "    except TypeError:\n",
        "        non_ints.append(val)\n",
        "\n",
        "print(non_ints)"
      ]
    },
    {
      "cell_type": "markdown",
      "metadata": {
        "id": "Oc-eWP-Os1po"
      },
      "source": [
        "# Comments"
      ]
    },
    {
      "cell_type": "markdown",
      "metadata": {
        "id": "7LDUxT8Kx7Mb"
      },
      "source": [
        "Notes describing the condition of the river (trash, etc.)\n",
        "* 94.7% of data in this column are NaN \n",
        "* 2724 distinct values\n",
        "* All kinds of environmental features noticed, including vegetation, water quality, water level, smell, trash ... or just used as a place of communication between researchers\n",
        "* All strings"
      ]
    },
    {
      "cell_type": "code",
      "execution_count": 8,
      "metadata": {
        "colab": {
          "base_uri": "https://localhost:8080/"
        },
        "id": "XQ6ldDbq7h6y",
        "outputId": "81e6838b-daf5-4915-9a52-d41fafc85969"
      },
      "outputs": [
        {
          "output_type": "stream",
          "name": "stdout",
          "text": [
            "56435\n",
            "94.69277492533307\n",
            "2724\n",
            "86.12077141953841\n",
            "object\n"
          ]
        }
      ],
      "source": [
        "from numpy import str0\n",
        "num_null = (df['Comments'].isnull().sum()) # how many null values\n",
        "print(num_null)\n",
        "print(num_null/rows*100) # percentage null values\n",
        "\n",
        "print(df['Comments'].nunique()) # how many unique values\n",
        "print(df['Comments'].nunique()/(rows-num_null)*100) # percentage unique values\n",
        "\n",
        "print(df['Comments'].dtypes)\n"
      ]
    },
    {
      "cell_type": "code",
      "source": [
        "# examples of comments\n",
        "df[df['Comments'].notnull()]['Comments']"
      ],
      "metadata": {
        "colab": {
          "base_uri": "https://localhost:8080/"
        },
        "id": "BKHN_gdVwe38",
        "outputId": "a0939acf-afeb-48bc-8296-72957c90afdd"
      },
      "execution_count": 9,
      "outputs": [
        {
          "output_type": "execute_result",
          "data": {
            "text/plain": [
              "21147    Spring emergent vegetation has begun to appear...\n",
              "21156    A.  Please note that Friends of Caney Creek. o...\n",
              "21174                              Erosion due to flooding\n",
              "21175                              Erosion due to flooding\n",
              "21176                              Erosion due to flooding\n",
              "                               ...                        \n",
              "59589    Current flow at USGS gauge in Montezuma = 2320...\n",
              "59590    Current flow at USGS gauge in Montezuma = 2320...\n",
              "59591    Current flow at USGS gauge in Montezuma = 2320...\n",
              "59592    Current flow at USGS gauge in Montezuma = 2320...\n",
              "59593    Current flow at USGS gauge in Americus GA = 44...\n",
              "Name: Comments, Length: 3163, dtype: object"
            ]
          },
          "metadata": {},
          "execution_count": 9
        }
      ]
    },
    {
      "cell_type": "markdown",
      "metadata": {
        "id": "WfhyhZmZs3CF"
      },
      "source": [
        "# comments"
      ]
    },
    {
      "cell_type": "markdown",
      "metadata": {
        "id": "1bQY_bvQypqn"
      },
      "source": [
        "Notes with scientific information (bacteria, etc.)\n",
        "* 99% are NaN values\n",
        "* 464 unique comments, 86% of non-null data in this column is unique\n",
        "* more focused on the detection and abnormal features of bacteria level\n",
        "* All strings"
      ]
    },
    {
      "cell_type": "code",
      "execution_count": 10,
      "metadata": {
        "colab": {
          "base_uri": "https://localhost:8080/"
        },
        "id": "Z8oDrvZ97ilB",
        "outputId": "ad0a4613-7800-429e-f13b-c48c8517e13e"
      },
      "outputs": [
        {
          "output_type": "stream",
          "name": "stdout",
          "text": [
            "59057\n",
            "99.09225141783281\n",
            "464\n",
            "85.76709796672827\n",
            "object\n"
          ]
        }
      ],
      "source": [
        "num_null = (df['comments'].isnull().sum()) # how many null values\n",
        "print(num_null)\n",
        "print(num_null/rows*100) # percentage null values\n",
        "\n",
        "print(df['comments'].nunique()) # how many unique values\n",
        "print(df['comments'].nunique()/(rows-num_null)*100) # percentage unique values\n",
        "\n",
        "print(df['comments'].dtypes)\n"
      ]
    },
    {
      "cell_type": "markdown",
      "metadata": {
        "id": "TcWpE1-ss4V8"
      },
      "source": [
        "# warnings"
      ]
    },
    {
      "cell_type": "markdown",
      "metadata": {
        "id": "pawg4OiO0Fzt"
      },
      "source": [
        "Standardized labels all refer to \"Bacterial Warnings:\"\n",
        "* 99.5% are NaN values\n",
        "* In total 165 sites reported warnings, and all of them reported the same thing\n",
        "* Some groups have more warnings than others (see data table below)\n",
        "* All strings"
      ]
    },
    {
      "cell_type": "code",
      "execution_count": 11,
      "metadata": {
        "colab": {
          "base_uri": "https://localhost:8080/"
        },
        "id": "sk82GigU7kF6",
        "outputId": "84c326b0-8c64-4ce8-9b72-a91315ae9052"
      },
      "outputs": [
        {
          "output_type": "stream",
          "name": "stdout",
          "text": [
            "59277\n",
            "99.46139132185644\n",
            "1\n",
            "0.3115264797507788\n",
            "Bacterial Warnings:    321\n",
            "Name: warnings, dtype: int64\n",
            "165\n",
            "object\n"
          ]
        }
      ],
      "source": [
        "num_null = (df['warnings'].isnull().sum()) # how many null values\n",
        "print(num_null)\n",
        "print(num_null/rows*100) # percentage null values\n",
        "\n",
        "print(df['warnings'].nunique()) # how many unique values\n",
        "print(df['warnings'].nunique()/(rows-num_null)*100) # percentage unique values\n",
        "\n",
        "print(df['warnings'].value_counts()) # there are 321 entries of \"Bacterial Warnings\"\n",
        "\n",
        "df_warning=df[df['warnings'].notnull()]\n",
        "arr = df_warning.iloc[:,2]\n",
        "with pd.option_context('display.max_rows', None, 'display.max_columns', None):\n",
        "  print(len(arr.value_counts())) # number of sites reporting \"Bacterial Warnings\"\n",
        "\n",
        "print(df['warnings'].dtypes)\n"
      ]
    },
    {
      "cell_type": "code",
      "source": [
        "df_warnings = df.groupby(['site_rid'])['warnings'].count()\n",
        "df_warnings = pd.DataFrame(df_warnings)\n",
        "df_warnings.index.names = ['Site ID']\n",
        "df_warnings.columns = ['Warning Counts']\n",
        "df_warnings2 = df_warnings.sort_values(by='Warning Counts', ascending=False)\n",
        "df_warnings2"
      ],
      "metadata": {
        "colab": {
          "base_uri": "https://localhost:8080/",
          "height": 455
        },
        "id": "J3iOP8skLg60",
        "outputId": "7fc74b0b-45db-4019-ace7-f35fa4983ee2"
      },
      "execution_count": 12,
      "outputs": [
        {
          "output_type": "execute_result",
          "data": {
            "text/plain": [
              "         Warning Counts\n",
              "Site ID                \n",
              "2986                 23\n",
              "1398                 12\n",
              "316                  10\n",
              "6796                 10\n",
              "2858                  9\n",
              "...                 ...\n",
              "2047                  0\n",
              "2055                  0\n",
              "2056                  0\n",
              "2057                  0\n",
              "7323                  0\n",
              "\n",
              "[2637 rows x 1 columns]"
            ],
            "text/html": [
              "\n",
              "  <div id=\"df-d3dada03-aed2-4f9d-8185-f3f714adb779\">\n",
              "    <div class=\"colab-df-container\">\n",
              "      <div>\n",
              "<style scoped>\n",
              "    .dataframe tbody tr th:only-of-type {\n",
              "        vertical-align: middle;\n",
              "    }\n",
              "\n",
              "    .dataframe tbody tr th {\n",
              "        vertical-align: top;\n",
              "    }\n",
              "\n",
              "    .dataframe thead th {\n",
              "        text-align: right;\n",
              "    }\n",
              "</style>\n",
              "<table border=\"1\" class=\"dataframe\">\n",
              "  <thead>\n",
              "    <tr style=\"text-align: right;\">\n",
              "      <th></th>\n",
              "      <th>Warning Counts</th>\n",
              "    </tr>\n",
              "    <tr>\n",
              "      <th>Site ID</th>\n",
              "      <th></th>\n",
              "    </tr>\n",
              "  </thead>\n",
              "  <tbody>\n",
              "    <tr>\n",
              "      <th>2986</th>\n",
              "      <td>23</td>\n",
              "    </tr>\n",
              "    <tr>\n",
              "      <th>1398</th>\n",
              "      <td>12</td>\n",
              "    </tr>\n",
              "    <tr>\n",
              "      <th>316</th>\n",
              "      <td>10</td>\n",
              "    </tr>\n",
              "    <tr>\n",
              "      <th>6796</th>\n",
              "      <td>10</td>\n",
              "    </tr>\n",
              "    <tr>\n",
              "      <th>2858</th>\n",
              "      <td>9</td>\n",
              "    </tr>\n",
              "    <tr>\n",
              "      <th>...</th>\n",
              "      <td>...</td>\n",
              "    </tr>\n",
              "    <tr>\n",
              "      <th>2047</th>\n",
              "      <td>0</td>\n",
              "    </tr>\n",
              "    <tr>\n",
              "      <th>2055</th>\n",
              "      <td>0</td>\n",
              "    </tr>\n",
              "    <tr>\n",
              "      <th>2056</th>\n",
              "      <td>0</td>\n",
              "    </tr>\n",
              "    <tr>\n",
              "      <th>2057</th>\n",
              "      <td>0</td>\n",
              "    </tr>\n",
              "    <tr>\n",
              "      <th>7323</th>\n",
              "      <td>0</td>\n",
              "    </tr>\n",
              "  </tbody>\n",
              "</table>\n",
              "<p>2637 rows × 1 columns</p>\n",
              "</div>\n",
              "      <button class=\"colab-df-convert\" onclick=\"convertToInteractive('df-d3dada03-aed2-4f9d-8185-f3f714adb779')\"\n",
              "              title=\"Convert this dataframe to an interactive table.\"\n",
              "              style=\"display:none;\">\n",
              "        \n",
              "  <svg xmlns=\"http://www.w3.org/2000/svg\" height=\"24px\"viewBox=\"0 0 24 24\"\n",
              "       width=\"24px\">\n",
              "    <path d=\"M0 0h24v24H0V0z\" fill=\"none\"/>\n",
              "    <path d=\"M18.56 5.44l.94 2.06.94-2.06 2.06-.94-2.06-.94-.94-2.06-.94 2.06-2.06.94zm-11 1L8.5 8.5l.94-2.06 2.06-.94-2.06-.94L8.5 2.5l-.94 2.06-2.06.94zm10 10l.94 2.06.94-2.06 2.06-.94-2.06-.94-.94-2.06-.94 2.06-2.06.94z\"/><path d=\"M17.41 7.96l-1.37-1.37c-.4-.4-.92-.59-1.43-.59-.52 0-1.04.2-1.43.59L10.3 9.45l-7.72 7.72c-.78.78-.78 2.05 0 2.83L4 21.41c.39.39.9.59 1.41.59.51 0 1.02-.2 1.41-.59l7.78-7.78 2.81-2.81c.8-.78.8-2.07 0-2.86zM5.41 20L4 18.59l7.72-7.72 1.47 1.35L5.41 20z\"/>\n",
              "  </svg>\n",
              "      </button>\n",
              "      \n",
              "  <style>\n",
              "    .colab-df-container {\n",
              "      display:flex;\n",
              "      flex-wrap:wrap;\n",
              "      gap: 12px;\n",
              "    }\n",
              "\n",
              "    .colab-df-convert {\n",
              "      background-color: #E8F0FE;\n",
              "      border: none;\n",
              "      border-radius: 50%;\n",
              "      cursor: pointer;\n",
              "      display: none;\n",
              "      fill: #1967D2;\n",
              "      height: 32px;\n",
              "      padding: 0 0 0 0;\n",
              "      width: 32px;\n",
              "    }\n",
              "\n",
              "    .colab-df-convert:hover {\n",
              "      background-color: #E2EBFA;\n",
              "      box-shadow: 0px 1px 2px rgba(60, 64, 67, 0.3), 0px 1px 3px 1px rgba(60, 64, 67, 0.15);\n",
              "      fill: #174EA6;\n",
              "    }\n",
              "\n",
              "    [theme=dark] .colab-df-convert {\n",
              "      background-color: #3B4455;\n",
              "      fill: #D2E3FC;\n",
              "    }\n",
              "\n",
              "    [theme=dark] .colab-df-convert:hover {\n",
              "      background-color: #434B5C;\n",
              "      box-shadow: 0px 1px 3px 1px rgba(0, 0, 0, 0.15);\n",
              "      filter: drop-shadow(0px 1px 2px rgba(0, 0, 0, 0.3));\n",
              "      fill: #FFFFFF;\n",
              "    }\n",
              "  </style>\n",
              "\n",
              "      <script>\n",
              "        const buttonEl =\n",
              "          document.querySelector('#df-d3dada03-aed2-4f9d-8185-f3f714adb779 button.colab-df-convert');\n",
              "        buttonEl.style.display =\n",
              "          google.colab.kernel.accessAllowed ? 'block' : 'none';\n",
              "\n",
              "        async function convertToInteractive(key) {\n",
              "          const element = document.querySelector('#df-d3dada03-aed2-4f9d-8185-f3f714adb779');\n",
              "          const dataTable =\n",
              "            await google.colab.kernel.invokeFunction('convertToInteractive',\n",
              "                                                     [key], {});\n",
              "          if (!dataTable) return;\n",
              "\n",
              "          const docLinkHtml = 'Like what you see? Visit the ' +\n",
              "            '<a target=\"_blank\" href=https://colab.research.google.com/notebooks/data_table.ipynb>data table notebook</a>'\n",
              "            + ' to learn more about interactive tables.';\n",
              "          element.innerHTML = '';\n",
              "          dataTable['output_type'] = 'display_data';\n",
              "          await google.colab.output.renderOutput(dataTable, element);\n",
              "          const docLink = document.createElement('div');\n",
              "          docLink.innerHTML = docLinkHtml;\n",
              "          element.appendChild(docLink);\n",
              "        }\n",
              "      </script>\n",
              "    </div>\n",
              "  </div>\n",
              "  "
            ]
          },
          "metadata": {},
          "execution_count": 12
        }
      ]
    },
    {
      "cell_type": "markdown",
      "metadata": {
        "id": "t4TsaaZfs6Hu"
      },
      "source": [
        "# SiteName"
      ]
    },
    {
      "cell_type": "markdown",
      "metadata": {
        "id": "IdudU_DizDcX"
      },
      "source": [
        "Name of the body of water or general location\n",
        "* 1892 unique site names\n",
        "* Directly associated with columns ```site_rid```,\t```state```,\t```county```,\t```lat```,\t```long```,\t```SiteName```,\t```SiteLocation```\n",
        "* Appears to be a more general label for ```wbd```"
      ]
    },
    {
      "cell_type": "code",
      "execution_count": 13,
      "metadata": {
        "colab": {
          "base_uri": "https://localhost:8080/"
        },
        "id": "qdF-GY6Z7kiE",
        "outputId": "95528274-2070-43b6-d8dd-584554af1ed9"
      },
      "outputs": [
        {
          "output_type": "stream",
          "name": "stdout",
          "text": [
            "0\n",
            "1892\n",
            "3.1746031746031744\n",
            "object\n"
          ]
        }
      ],
      "source": [
        "print(df['SiteName'].isnull().sum()) # how many null values\n",
        "print(df['SiteName'].nunique()) # how many unique values\n",
        "print(df['SiteName'].nunique()/(rows)*100) # percentage unique values\n",
        "\n",
        "print(df['SiteName'].dtypes)\n"
      ]
    },
    {
      "cell_type": "markdown",
      "metadata": {
        "id": "F7WzaB9Qs-Ah"
      },
      "source": [
        "# SiteLocation"
      ]
    },
    {
      "cell_type": "markdown",
      "metadata": {
        "id": "pQcgUZkV0MNm"
      },
      "source": [
        "Coordinates of the site location\n",
        "* Direct combination of columns ```lat``` and ```long```, in that order\n",
        "* Coordinates are separated by two spaces between the latitute and longitude, with no exceptions in parsing"
      ]
    },
    {
      "cell_type": "code",
      "execution_count": 14,
      "metadata": {
        "colab": {
          "base_uri": "https://localhost:8080/"
        },
        "id": "LJAN8h4E7k-J",
        "outputId": "0b074419-a7cb-4ce2-9fa5-0d353b43edb8"
      },
      "outputs": [
        {
          "output_type": "stream",
          "name": "stdout",
          "text": [
            "0\n",
            "2599\n",
            "4.360884593442733\n",
            "object\n"
          ]
        }
      ],
      "source": [
        "print(df['SiteLocation'].isnull().sum()) # how many null values\n",
        "print(df['SiteLocation'].nunique()) # how many unique values\n",
        "print(df['SiteLocation'].nunique()/(rows)*100) # percentage unique values\n",
        "\n",
        "print(df['SiteLocation'].dtypes)"
      ]
    },
    {
      "cell_type": "code",
      "source": [
        "df_coords = df['SiteLocation'].str.split(\"  \", n=1, expand=True) # new data frame with 1 column for latitude and 1 column for longitude\n",
        "print(df_coords)\n",
        "\n",
        "df['lat'] = df['lat'].astype(float, errors = 'raise')\n",
        "df_coords = df_coords.astype(float, errors='raise')\n",
        "\n",
        "print(df['lat'].equals(df_coords[0])) #check if values are the same as latitutde column\n",
        "print(df['long'].equals(df_coords[1])) #check if values are the same as longitude column"
      ],
      "metadata": {
        "colab": {
          "base_uri": "https://localhost:8080/"
        },
        "id": "qzyfJbI5xvjs",
        "outputId": "e8445345-10ec-44e4-f648-dab2bbf11375"
      },
      "execution_count": 15,
      "outputs": [
        {
          "output_type": "stream",
          "name": "stdout",
          "text": [
            "             0         1\n",
            "0      34.4103  -83.8462\n",
            "1      34.4103  -83.8462\n",
            "2      33.8406  -83.5584\n",
            "3      33.8406  -83.5584\n",
            "4      33.8406  -83.5584\n",
            "...        ...       ...\n",
            "59593  32.0067  -84.2266\n",
            "59594  31.2387  -82.3231\n",
            "59595  31.2933  -81.9571\n",
            "59596  31.2196  -81.8677\n",
            "59597    31.24  -81.8634\n",
            "\n",
            "[59598 rows x 2 columns]\n",
            "True\n",
            "True\n"
          ]
        }
      ]
    },
    {
      "cell_type": "markdown",
      "metadata": {
        "id": "VggMaVGRs_zl"
      },
      "source": [
        "# event_date"
      ]
    },
    {
      "cell_type": "markdown",
      "metadata": {
        "id": "AI_RW9mA0aMy"
      },
      "source": [
        "Date of the collection event in format YYYY-MM-DD HH:MM:SS\t\n",
        "* Partially associated with ```event_rid```\n",
        "* ```event_rid``` contains all unique values while ```event_date``` contains 8356 non-unique values. Duplicates are shown in the table below.\n",
        "* all in datetime formate YYYY-MM-DD HH:MM:SS"
      ]
    },
    {
      "cell_type": "code",
      "execution_count": 16,
      "metadata": {
        "colab": {
          "base_uri": "https://localhost:8080/"
        },
        "id": "J35eEqaC7lgs",
        "outputId": "f8e2374d-8ab5-4ae5-ac7a-f6f6d4d77568"
      },
      "outputs": [
        {
          "output_type": "stream",
          "name": "stdout",
          "text": [
            "0\n",
            "51242\n",
            "8356\n",
            "85.97939528172085\n",
            "object\n",
            "[]\n"
          ]
        }
      ],
      "source": [
        "import datetime\n",
        "print(df['event_date'].isnull().sum()) # how many null values\n",
        "\n",
        "print(df['event_date'].nunique()) # how many unique values\n",
        "print(rows - df['event_date'].nunique()) # number of non-unique values\n",
        "print(df['event_date'].nunique()/(rows)*100) # percentage unique values\n",
        "\n",
        "print(df['event_date'].dtypes)\n",
        "non_datetime = []\n",
        "for val in df['event_date']:\n",
        "    try:\n",
        "        datetime.datetime.strptime(val, '%Y-%m-%d %H:%M:%S') \n",
        "    except TypeError:\n",
        "        non_datetime.append(val)\n",
        "\n",
        "print(non_datetime)"
      ]
    },
    {
      "cell_type": "code",
      "source": [
        "df_eventdate = df['event_date'].value_counts()\n",
        "df_eventdate[df_eventdate > 1] # table of duplicate dates"
      ],
      "metadata": {
        "colab": {
          "base_uri": "https://localhost:8080/"
        },
        "id": "wMCtcr5z1Vbz",
        "outputId": "456765b9-85f0-4098-ce20-26b611e8c45b"
      },
      "execution_count": 17,
      "outputs": [
        {
          "output_type": "execute_result",
          "data": {
            "text/plain": [
              "2005-07-30 12:00:00    18\n",
              "2014-04-10 14:00:00    18\n",
              "2005-11-05 10:00:00    17\n",
              "2020-07-23 12:00:00    15\n",
              "2014-04-03 10:30:00    14\n",
              "                       ..\n",
              "2021-02-06 11:40:00     2\n",
              "2015-11-05 10:00:00     2\n",
              "2017-08-31 10:25:00     2\n",
              "2017-03-10 10:00:00     2\n",
              "2017-02-28 13:30:00     2\n",
              "Name: event_date, Length: 5690, dtype: int64"
            ]
          },
          "metadata": {},
          "execution_count": 17
        }
      ]
    },
    {
      "cell_type": "markdown",
      "metadata": {
        "id": "8zaQNGnjtC9x"
      },
      "source": [
        "# volunteer_time"
      ]
    },
    {
      "cell_type": "markdown",
      "metadata": {
        "id": "LV0UpSNr1_A7"
      },
      "source": [
        "[Units = Minutes] Number of minutes spent at site by volunteers (inferred based on distribution of values)\n",
        "* Has a mean of 101 minutes, standard deviation of 657 minutes\n",
        "* Has a minimum of 0 minutes (44 occurances), and has 23056 NaN values\n",
        "* Has a maximum of 120210 minutes, which equates to 83.5 days\n",
        "* The middle 50% lies between 45 minutes and 120 minutes\n",
        "* Datatype is float, but all values are integers (unit: 1 minute)"
      ]
    },
    {
      "cell_type": "code",
      "execution_count": 18,
      "metadata": {
        "colab": {
          "base_uri": "https://localhost:8080/"
        },
        "id": "oSitQaB97mUA",
        "outputId": "187c0039-8875-4925-8a73-487c9d1e1702"
      },
      "outputs": [
        {
          "output_type": "stream",
          "name": "stdout",
          "text": [
            "23056\n",
            "442\n",
            "1.2095670735044606\n"
          ]
        }
      ],
      "source": [
        "from pandas.core.dtypes.common import is_string_dtype\n",
        "from pandas._libs.lib import is_integer\n",
        "\n",
        "num_null = (df['volunteer_time'].isnull().sum()) # how many null values\n",
        "print(num_null)\n",
        "\n",
        "print(df['volunteer_time'].nunique()) # how many unique values\n",
        "print(df['volunteer_time'].nunique()/(rows-num_null)*100) # percentage unique values\n"
      ]
    },
    {
      "cell_type": "code",
      "source": [
        "print(df['volunteer_time'].describe())"
      ],
      "metadata": {
        "colab": {
          "base_uri": "https://localhost:8080/"
        },
        "id": "lcKWLaZhFewG",
        "outputId": "6b774e7f-6053-4f0b-89c2-fdc78ff583de"
      },
      "execution_count": 19,
      "outputs": [
        {
          "output_type": "stream",
          "name": "stdout",
          "text": [
            "count     36542.000000\n",
            "mean        100.887910\n",
            "std         657.271641\n",
            "min           0.000000\n",
            "25%          45.000000\n",
            "50%          60.000000\n",
            "75%         120.000000\n",
            "max      120210.000000\n",
            "Name: volunteer_time, dtype: float64\n"
          ]
        }
      ]
    },
    {
      "cell_type": "code",
      "source": [
        "120210/24/60 # maximum value in days"
      ],
      "metadata": {
        "colab": {
          "base_uri": "https://localhost:8080/"
        },
        "id": "wG2MsvKmFu92",
        "outputId": "62e286df-ee19-424f-ea3e-fc3dd10008e5"
      },
      "execution_count": 20,
      "outputs": [
        {
          "output_type": "execute_result",
          "data": {
            "text/plain": [
              "83.47916666666667"
            ]
          },
          "metadata": {},
          "execution_count": 20
        }
      ]
    },
    {
      "cell_type": "code",
      "source": [
        "print(df['volunteer_time'].dtypes) \n",
        "non_ints = []\n",
        "df_volunteer_nonull = df[df['volunteer_time'].notnull()]\n",
        "for val in df_volunteer_nonull['volunteer_time']:\n",
        "    try:\n",
        "      int(val)\n",
        "    except ValueError:\n",
        "        non_ints.append(val)\n",
        "print(non_ints)\n",
        "print(\"\")\n",
        "\n",
        "print(df['volunteer_time'].value_counts()) "
      ],
      "metadata": {
        "colab": {
          "base_uri": "https://localhost:8080/"
        },
        "id": "CfAJLz7cqu3a",
        "outputId": "edd7615b-2031-4063-9074-ad8fffafdde5"
      },
      "execution_count": 21,
      "outputs": [
        {
          "output_type": "stream",
          "name": "stdout",
          "text": [
            "float64\n",
            "[]\n",
            "\n",
            "60.0      10412\n",
            "180.0      4023\n",
            "120.0      3065\n",
            "30.0       2866\n",
            "90.0       1382\n",
            "          ...  \n",
            "1750.0        1\n",
            "276.0         1\n",
            "246.0         1\n",
            "525.0         1\n",
            "402.0         1\n",
            "Name: volunteer_time, Length: 442, dtype: int64\n"
          ]
        }
      ]
    },
    {
      "cell_type": "code",
      "source": [
        "print(len(df[df['volunteer_time'] == 0.0])) # number of values that are 0 minutes"
      ],
      "metadata": {
        "colab": {
          "base_uri": "https://localhost:8080/"
        },
        "id": "FMTg3wPP2hwt",
        "outputId": "0363cea0-7ab9-4ef3-97aa-e177e3f17a23"
      },
      "execution_count": 22,
      "outputs": [
        {
          "output_type": "stream",
          "name": "stdout",
          "text": [
            "44\n"
          ]
        }
      ]
    },
    {
      "cell_type": "code",
      "source": [
        "df_volunteertime_lower75 = df.loc[(df['volunteer_time'] <= 120.0)]\n",
        "print(df_volunteertime_lower75['volunteer_time'].head())\n",
        "\n",
        "fig,ax=plt.subplots(1,1)\n",
        "plt.hist(df_volunteertime_lower75['volunteer_time'], bins=12)\n",
        "ax.set(xlabel='Time (Minutes)', ylabel='Number of Data Entries', title='Histogram of Lower 75% of volunteer_time')\n",
        "plt.show()"
      ],
      "metadata": {
        "colab": {
          "base_uri": "https://localhost:8080/",
          "height": 402
        },
        "id": "Y-_ZwILp4YuK",
        "outputId": "759b7d25-ac37-4892-ca2f-42e2f1845d1f"
      },
      "execution_count": 23,
      "outputs": [
        {
          "output_type": "stream",
          "name": "stdout",
          "text": [
            "7     120.0\n",
            "8     120.0\n",
            "12     60.0\n",
            "13     60.0\n",
            "15     60.0\n",
            "Name: volunteer_time, dtype: float64\n"
          ]
        },
        {
          "output_type": "display_data",
          "data": {
            "text/plain": [
              "<Figure size 432x288 with 1 Axes>"
            ],
            "image/png": "[encoded data removed]"
          },
          "metadata": {
            "needs_background": "light"
          }
        }
      ]
    },
    {
      "cell_type": "code",
      "source": [
        "df_volunteertime_upper25 = df.loc[(df['volunteer_time'] > 120.0)]\n",
        "print(df_volunteertime_upper25['volunteer_time'].head())\n",
        "\n",
        "df_volunteertime_upper25_vc = df_volunteertime_upper25['volunteer_time'].value_counts()\n",
        "df_volunteertime_upper25_vc = df_volunteertime_upper25_vc.to_frame()\n",
        "df_volunteertime_upper25_vc.iloc[:,0]\n",
        "\n",
        "fig,ax=plt.subplots(1,1)\n",
        "ax.plot(df_volunteertime_upper25_vc.index, df_volunteertime_upper25_vc.iloc[:,0], 'o')\n",
        "ax.set(xlabel='Time (Minutes)', ylabel='Number of Data Entries', title='Upper 25% of volunteer_time Including Outliers')\n",
        "plt.show()"
      ],
      "metadata": {
        "colab": {
          "base_uri": "https://localhost:8080/",
          "height": 402
        },
        "id": "Dyvdwh1X3LqW",
        "outputId": "698ad35d-6960-4403-f907-7b4c34c93546"
      },
      "execution_count": 24,
      "outputs": [
        {
          "output_type": "stream",
          "name": "stdout",
          "text": [
            "0    180.0\n",
            "1    180.0\n",
            "2    180.0\n",
            "3    180.0\n",
            "4    180.0\n",
            "Name: volunteer_time, dtype: float64\n"
          ]
        },
        {
          "output_type": "display_data",
          "data": {
            "text/plain": [
              "<Figure size 432x288 with 1 Axes>"
            ],
            "image/png": "[encoded data removed]"
          },
          "metadata": {
            "needs_background": "light"
          }
        }
      ]
    },
    {
      "cell_type": "code",
      "source": [
        "df_volunteertime_upper = df.loc[(df['volunteer_time'] > 120.0)]\n",
        "df_volunteertime_upper = df_volunteertime_upper[(df['volunteer_time'] <= 600.0)]\n",
        "print(df_volunteertime_upper['volunteer_time'].head())\n",
        "\n",
        "fig,ax=plt.subplots(1,1)\n",
        "plt.hist(df_volunteertime_upper['volunteer_time'], bins='auto')\n",
        "ax.set(xlabel='Time (Minutes)', ylabel='Number of Data Entries', title='Upper 25% of volunteer_time Excluding Outliers')\n",
        "plt.show()"
      ],
      "metadata": {
        "colab": {
          "base_uri": "https://localhost:8080/",
          "height": 438
        },
        "id": "GI69Ut0i-7n2",
        "outputId": "139b9951-0ffa-4b5b-d481-8c10ebf553b9"
      },
      "execution_count": 25,
      "outputs": [
        {
          "output_type": "stream",
          "name": "stdout",
          "text": [
            "0    180.0\n",
            "1    180.0\n",
            "2    180.0\n",
            "3    180.0\n",
            "4    180.0\n",
            "Name: volunteer_time, dtype: float64\n"
          ]
        },
        {
          "output_type": "stream",
          "name": "stderr",
          "text": [
            "/usr/local/lib/python3.7/dist-packages/ipykernel_launcher.py:2: UserWarning: Boolean Series key will be reindexed to match DataFrame index.\n",
            "  \n"
          ]
        },
        {
          "output_type": "display_data",
          "data": {
            "text/plain": [
              "<Figure size 432x288 with 1 Axes>"
            ],
            "image/png": "[encoded data removed]"
          },
          "metadata": {
            "needs_background": "light"
          }
        }
      ]
    },
    {
      "cell_type": "code",
      "source": [
        "# table of outliers\n",
        "((df.loc[(df['volunteer_time'] > 600.0)]).sort_values(by=['volunteer_time']))['volunteer_time']"
      ],
      "metadata": {
        "colab": {
          "base_uri": "https://localhost:8080/"
        },
        "id": "fIjPR_qUAGEQ",
        "outputId": "3ea5f8c0-cd56-4b94-f735-7ef7aaa6f7e2"
      },
      "execution_count": 26,
      "outputs": [
        {
          "output_type": "execute_result",
          "data": {
            "text/plain": [
              "42827       601.0\n",
              "54896       604.0\n",
              "55179       606.0\n",
              "55605       610.0\n",
              "50993       615.0\n",
              "           ...   \n",
              "43633      6010.0\n",
              "59343     10620.0\n",
              "55047     15000.0\n",
              "45135     17340.0\n",
              "38978    120210.0\n",
              "Name: volunteer_time, Length: 342, dtype: float64"
            ]
          },
          "metadata": {},
          "execution_count": 26
        }
      ]
    },
    {
      "cell_type": "markdown",
      "metadata": {
        "id": "z6aIa0BatEvx"
      },
      "source": [
        "# createdby"
      ]
    },
    {
      "cell_type": "markdown",
      "metadata": {
        "id": "-dIhXSe528Rj"
      },
      "source": [
        "Contact information for party associated with the data entry\n",
        "* 78% of entries are \"EPDMIG\"\n",
        "* 20% of entries are emails (contain an ```@``` symbol) with a combination of personal, academic institutional, and organizational addresses\n",
        "* 0.5% (140 count) entries are neither \"EPDMIG\" nor contain an ```@``` symbol but are non-null\n",
        "* 1.5% of entries are null\n",
        "\n",
        "\n",
        "* \"EPDMIG\" rows have the same several ```createddate``` values, implying mass imports of data\n"
      ]
    },
    {
      "cell_type": "code",
      "execution_count": 27,
      "metadata": {
        "colab": {
          "base_uri": "https://localhost:8080/"
        },
        "id": "0O6kIU9U7m2k",
        "outputId": "5908a6a6-7344-4d9b-8f05-803063737739"
      },
      "outputs": [
        {
          "output_type": "stream",
          "name": "stdout",
          "text": [
            "871\n",
            "1.461458438202624\n",
            "583\n",
            "0.9927290684012465\n"
          ]
        }
      ],
      "source": [
        "num_null = (df['createdby'].isnull().sum()) # how many null values\n",
        "print(num_null)\n",
        "print(num_null/rows*100) # percentage null values\n",
        "\n",
        "print(df['createdby'].nunique()) # how many unique values\n",
        "print(df['createdby'].nunique()/(rows-num_null)*100) # percentage unique values"
      ]
    },
    {
      "cell_type": "code",
      "source": [
        "print((df['createdby']=='EPDMIG').sum()/rows*100)"
      ],
      "metadata": {
        "colab": {
          "base_uri": "https://localhost:8080/"
        },
        "id": "spTpR3D9F4hJ",
        "outputId": "8311ddfa-1b42-4c09-edb3-41ae66166e95"
      },
      "execution_count": 28,
      "outputs": [
        {
          "output_type": "stream",
          "name": "stdout",
          "text": [
            "78.03114198463035\n"
          ]
        }
      ]
    },
    {
      "cell_type": "code",
      "source": [
        "df_createdby_emails = (df.loc[(df['createdby'] != 'EPDMIG') & (df['createdby'].notnull() == True)])['createdby']\n",
        "df_createdby_emails.head()\n",
        "\n",
        "print(len(df_createdby_emails)) # number of non-'EPDMIG' entries\n",
        "print(sum(df_createdby_emails.str.contains('@', regex=False))) # number of emails\n",
        "print(sum(df_createdby_emails.str.contains('@', regex=False))/rows*100) # percentage of emails\n",
        "\n",
        "df_createdby_emails_true = df_createdby_emails.str.contains('@', regex=False)\n",
        "non_emails = df_createdby_emails[df_createdby_emails_true == False]\n",
        "print(non_emails)\n",
        "len(non_emails)\n"
      ],
      "metadata": {
        "colab": {
          "base_uri": "https://localhost:8080/"
        },
        "id": "71ninZojHbnc",
        "outputId": "0eebee47-6c25-42c5-8827-49aa1049c2b3"
      },
      "execution_count": 29,
      "outputs": [
        {
          "output_type": "stream",
          "name": "stdout",
          "text": [
            "12222\n",
            "12082\n",
            "20.27249236551562\n",
            "34070         TKaty675\n",
            "34183          YBen369\n",
            "34185          YBen369\n",
            "34281         TKaty675\n",
            "34470         TKaty675\n",
            "             ...      \n",
            "55171    LaToshaWalker\n",
            "55172    LaToshaWalker\n",
            "55286    LaToshaWalker\n",
            "55287    LaToshaWalker\n",
            "55288    LaToshaWalker\n",
            "Name: createdby, Length: 140, dtype: object\n"
          ]
        },
        {
          "output_type": "execute_result",
          "data": {
            "text/plain": [
              "140"
            ]
          },
          "metadata": {},
          "execution_count": 29
        }
      ]
    },
    {
      "cell_type": "code",
      "source": [
        "df_EPDMIG = df.loc[(df['createdby'] == 'EPDMIG')]\n",
        "df_EPDMIG\n",
        "\n",
        "df_EPDMIG_table = df_EPDMIG['createddate'].value_counts()\n",
        "\n",
        "df_EPDMIG_table = pd.DataFrame(df_EPDMIG_table)\n",
        "df_EPDMIG_table.index.names = ['createddate']\n",
        "df_EPDMIG_table.columns = ['Entry Counts']\n",
        "df_EPDMIG_table"
      ],
      "metadata": {
        "colab": {
          "base_uri": "https://localhost:8080/",
          "height": 645
        },
        "id": "tYtDcTTLPM36",
        "outputId": "b0579ea7-e6af-4f6c-cb87-6899f147ec54"
      },
      "execution_count": 30,
      "outputs": [
        {
          "output_type": "execute_result",
          "data": {
            "text/plain": [
              "                   Entry Counts\n",
              "createddate                    \n",
              "3/10/17 11:48 PM          33892\n",
              "11/2/21 10:28 AM           2202\n",
              "9/29/17 10:22 AM           1668\n",
              "12/21/20 4:59 PM           1500\n",
              "12/11/17 2:22 PM           1175\n",
              "10/25/19 10:11 AM           962\n",
              "7/18/19 10:28 AM            913\n",
              "1/23/19 3:12 PM             904\n",
              "12/18/18 2:30 PM            547\n",
              "12/23/20 12:30 PM           520\n",
              "7/12/18 9:51 AM             492\n",
              "4/4/18 1:59 PM              445\n",
              "4/4/18 11:39 AM             383\n",
              "5/1/18 1:19 PM              298\n",
              "7/12/18 9:46 AM             248\n",
              "1/9/20 9:39 AM              231\n",
              "3/9/20 9:20 AM              113\n",
              "11/2/21 10:24 AM             12"
            ],
            "text/html": [
              "\n",
              "  <div id=\"df-c160697b-1ff3-451b-8405-d6debdd1ffb1\">\n",
              "    <div class=\"colab-df-container\">\n",
              "      <div>\n",
              "<style scoped>\n",
              "    .dataframe tbody tr th:only-of-type {\n",
              "        vertical-align: middle;\n",
              "    }\n",
              "\n",
              "    .dataframe tbody tr th {\n",
              "        vertical-align: top;\n",
              "    }\n",
              "\n",
              "    .dataframe thead th {\n",
              "        text-align: right;\n",
              "    }\n",
              "</style>\n",
              "<table border=\"1\" class=\"dataframe\">\n",
              "  <thead>\n",
              "    <tr style=\"text-align: right;\">\n",
              "      <th></th>\n",
              "      <th>Entry Counts</th>\n",
              "    </tr>\n",
              "    <tr>\n",
              "      <th>createddate</th>\n",
              "      <th></th>\n",
              "    </tr>\n",
              "  </thead>\n",
              "  <tbody>\n",
              "    <tr>\n",
              "      <th>3/10/17 11:48 PM</th>\n",
              "      <td>33892</td>\n",
              "    </tr>\n",
              "    <tr>\n",
              "      <th>11/2/21 10:28 AM</th>\n",
              "      <td>2202</td>\n",
              "    </tr>\n",
              "    <tr>\n",
              "      <th>9/29/17 10:22 AM</th>\n",
              "      <td>1668</td>\n",
              "    </tr>\n",
              "    <tr>\n",
              "      <th>12/21/20 4:59 PM</th>\n",
              "      <td>1500</td>\n",
              "    </tr>\n",
              "    <tr>\n",
              "      <th>12/11/17 2:22 PM</th>\n",
              "      <td>1175</td>\n",
              "    </tr>\n",
              "    <tr>\n",
              "      <th>10/25/19 10:11 AM</th>\n",
              "      <td>962</td>\n",
              "    </tr>\n",
              "    <tr>\n",
              "      <th>7/18/19 10:28 AM</th>\n",
              "      <td>913</td>\n",
              "    </tr>\n",
              "    <tr>\n",
              "      <th>1/23/19 3:12 PM</th>\n",
              "      <td>904</td>\n",
              "    </tr>\n",
              "    <tr>\n",
              "      <th>12/18/18 2:30 PM</th>\n",
              "      <td>547</td>\n",
              "    </tr>\n",
              "    <tr>\n",
              "      <th>12/23/20 12:30 PM</th>\n",
              "      <td>520</td>\n",
              "    </tr>\n",
              "    <tr>\n",
              "      <th>7/12/18 9:51 AM</th>\n",
              "      <td>492</td>\n",
              "    </tr>\n",
              "    <tr>\n",
              "      <th>4/4/18 1:59 PM</th>\n",
              "      <td>445</td>\n",
              "    </tr>\n",
              "    <tr>\n",
              "      <th>4/4/18 11:39 AM</th>\n",
              "      <td>383</td>\n",
              "    </tr>\n",
              "    <tr>\n",
              "      <th>5/1/18 1:19 PM</th>\n",
              "      <td>298</td>\n",
              "    </tr>\n",
              "    <tr>\n",
              "      <th>7/12/18 9:46 AM</th>\n",
              "      <td>248</td>\n",
              "    </tr>\n",
              "    <tr>\n",
              "      <th>1/9/20 9:39 AM</th>\n",
              "      <td>231</td>\n",
              "    </tr>\n",
              "    <tr>\n",
              "      <th>3/9/20 9:20 AM</th>\n",
              "      <td>113</td>\n",
              "    </tr>\n",
              "    <tr>\n",
              "      <th>11/2/21 10:24 AM</th>\n",
              "      <td>12</td>\n",
              "    </tr>\n",
              "  </tbody>\n",
              "</table>\n",
              "</div>\n",
              "      <button class=\"colab-df-convert\" onclick=\"convertToInteractive('df-c160697b-1ff3-451b-8405-d6debdd1ffb1')\"\n",
              "              title=\"Convert this dataframe to an interactive table.\"\n",
              "              style=\"display:none;\">\n",
              "        \n",
              "  <svg xmlns=\"http://www.w3.org/2000/svg\" height=\"24px\"viewBox=\"0 0 24 24\"\n",
              "       width=\"24px\">\n",
              "    <path d=\"M0 0h24v24H0V0z\" fill=\"none\"/>\n",
              "    <path d=\"M18.56 5.44l.94 2.06.94-2.06 2.06-.94-2.06-.94-.94-2.06-.94 2.06-2.06.94zm-11 1L8.5 8.5l.94-2.06 2.06-.94-2.06-.94L8.5 2.5l-.94 2.06-2.06.94zm10 10l.94 2.06.94-2.06 2.06-.94-2.06-.94-.94-2.06-.94 2.06-2.06.94z\"/><path d=\"M17.41 7.96l-1.37-1.37c-.4-.4-.92-.59-1.43-.59-.52 0-1.04.2-1.43.59L10.3 9.45l-7.72 7.72c-.78.78-.78 2.05 0 2.83L4 21.41c.39.39.9.59 1.41.59.51 0 1.02-.2 1.41-.59l7.78-7.78 2.81-2.81c.8-.78.8-2.07 0-2.86zM5.41 20L4 18.59l7.72-7.72 1.47 1.35L5.41 20z\"/>\n",
              "  </svg>\n",
              "      </button>\n",
              "      \n",
              "  <style>\n",
              "    .colab-df-container {\n",
              "      display:flex;\n",
              "      flex-wrap:wrap;\n",
              "      gap: 12px;\n",
              "    }\n",
              "\n",
              "    .colab-df-convert {\n",
              "      background-color: #E8F0FE;\n",
              "      border: none;\n",
              "      border-radius: 50%;\n",
              "      cursor: pointer;\n",
              "      display: none;\n",
              "      fill: #1967D2;\n",
              "      height: 32px;\n",
              "      padding: 0 0 0 0;\n",
              "      width: 32px;\n",
              "    }\n",
              "\n",
              "    .colab-df-convert:hover {\n",
              "      background-color: #E2EBFA;\n",
              "      box-shadow: 0px 1px 2px rgba(60, 64, 67, 0.3), 0px 1px 3px 1px rgba(60, 64, 67, 0.15);\n",
              "      fill: #174EA6;\n",
              "    }\n",
              "\n",
              "    [theme=dark] .colab-df-convert {\n",
              "      background-color: #3B4455;\n",
              "      fill: #D2E3FC;\n",
              "    }\n",
              "\n",
              "    [theme=dark] .colab-df-convert:hover {\n",
              "      background-color: #434B5C;\n",
              "      box-shadow: 0px 1px 3px 1px rgba(0, 0, 0, 0.15);\n",
              "      filter: drop-shadow(0px 1px 2px rgba(0, 0, 0, 0.3));\n",
              "      fill: #FFFFFF;\n",
              "    }\n",
              "  </style>\n",
              "\n",
              "      <script>\n",
              "        const buttonEl =\n",
              "          document.querySelector('#df-c160697b-1ff3-451b-8405-d6debdd1ffb1 button.colab-df-convert');\n",
              "        buttonEl.style.display =\n",
              "          google.colab.kernel.accessAllowed ? 'block' : 'none';\n",
              "\n",
              "        async function convertToInteractive(key) {\n",
              "          const element = document.querySelector('#df-c160697b-1ff3-451b-8405-d6debdd1ffb1');\n",
              "          const dataTable =\n",
              "            await google.colab.kernel.invokeFunction('convertToInteractive',\n",
              "                                                     [key], {});\n",
              "          if (!dataTable) return;\n",
              "\n",
              "          const docLinkHtml = 'Like what you see? Visit the ' +\n",
              "            '<a target=\"_blank\" href=https://colab.research.google.com/notebooks/data_table.ipynb>data table notebook</a>'\n",
              "            + ' to learn more about interactive tables.';\n",
              "          element.innerHTML = '';\n",
              "          dataTable['output_type'] = 'display_data';\n",
              "          await google.colab.output.renderOutput(dataTable, element);\n",
              "          const docLink = document.createElement('div');\n",
              "          docLink.innerHTML = docLinkHtml;\n",
              "          element.appendChild(docLink);\n",
              "        }\n",
              "      </script>\n",
              "    </div>\n",
              "  </div>\n",
              "  "
            ]
          },
          "metadata": {},
          "execution_count": 30
        }
      ]
    },
    {
      "cell_type": "markdown",
      "metadata": {
        "id": "1cCdvpMutF-Y"
      },
      "source": [
        "# createddate"
      ]
    },
    {
      "cell_type": "markdown",
      "metadata": {
        "id": "RWIUhT9Q3mtI"
      },
      "source": [
        "Date the data was uploaded, in format M/D/YY HH:MM AM/PM"
      ]
    },
    {
      "cell_type": "code",
      "execution_count": 31,
      "metadata": {
        "colab": {
          "base_uri": "https://localhost:8080/"
        },
        "id": "kdIMgYS87nYA",
        "outputId": "c54f54a0-4838-4818-a50f-b8ffb552230a"
      },
      "outputs": [
        {
          "output_type": "stream",
          "name": "stdout",
          "text": [
            "871\n",
            "12164\n",
            "20.71278968787781\n"
          ]
        }
      ],
      "source": [
        "num_null = (df['createddate'].isnull().sum()) # how many null values\n",
        "print(num_null)\n",
        "\n",
        "print(df['createddate'].nunique()) # how many unique values\n",
        "print(df['createddate'].nunique()/(rows-num_null)*100) # percentage unique values"
      ]
    },
    {
      "cell_type": "code",
      "source": [
        "createddate_datetime = pd.to_datetime(df['createddate'])\n",
        "\n",
        "fig,ax = plt.subplots(1,1)\n",
        "createddate_datetime.hist()\n",
        "ax.set(xlabel='Year', ylabel='Number of Data Entries Added', title='Number of Data Entries Added Over Time')\n",
        "plt.show()"
      ],
      "metadata": {
        "colab": {
          "base_uri": "https://localhost:8080/",
          "height": 295
        },
        "id": "arcFbdGJuZUL",
        "outputId": "dffe73ca-c5fe-4118-d65c-adf4f51daa0d"
      },
      "execution_count": 32,
      "outputs": [
        {
          "output_type": "display_data",
          "data": {
            "text/plain": [
              "<Figure size 432x288 with 1 Axes>"
            ],
            "image/png": "[encoded data removed]"
          },
          "metadata": {
            "needs_background": "light"
          }
        }
      ]
    },
    {
      "cell_type": "markdown",
      "metadata": {
        "id": "CQ6198XEtHXm"
      },
      "source": [
        "# data_entry"
      ]
    },
    {
      "cell_type": "markdown",
      "metadata": {
        "id": "kflcwewH4Q30"
      },
      "source": [
        "An indicator or label corresponding to ```group_rid``` and ```GroupName``` but with more NA values\n",
        "* 1573 distinct values\n",
        "* Float data type but all values are integers (end in .0), used as a categorical label\n",
        "* Includes inconsistencies with different ```data_entry``` values for the same ```group_rid``` and ```GroupName```\n",
        "* Often, same ```data_entry``` corresponds to same ```site_rid``` with a few exceptions, in which one ```data_entry``` corresponds to several consecutive ```site_rid```. (EX. ```data_entry``` 3307.0 to ```site_rid``` 45,46,47)\n"
      ]
    },
    {
      "cell_type": "code",
      "execution_count": 33,
      "metadata": {
        "colab": {
          "base_uri": "https://localhost:8080/"
        },
        "id": "v7dUKV6T7oIW",
        "outputId": "82133731-e5eb-4a61-e546-d24828952234"
      },
      "outputs": [
        {
          "output_type": "stream",
          "name": "stdout",
          "text": [
            "298\n",
            "1573\n",
            "2.6526138279932545\n"
          ]
        }
      ],
      "source": [
        "num_null = (df['data_entry'].isnull().sum()) # how many null values\n",
        "print(num_null)\n",
        "\n",
        "print(df['data_entry'].nunique()) # how many unique values\n",
        "print(df['data_entry'].nunique()/(rows-num_null)*100) # percentage unique values"
      ]
    },
    {
      "cell_type": "code",
      "source": [
        "df3=df.loc[df.loc[:,\"data_entry\"].notnull(),[\"data_entry\", \"site_rid\"]] #compare site_rid with data_entry\n",
        "df3"
      ],
      "metadata": {
        "colab": {
          "base_uri": "https://localhost:8080/",
          "height": 423
        },
        "id": "qRmsq2btvZSO",
        "outputId": "969171cc-3e16-4991-9960-3179a75b03e6"
      },
      "execution_count": 34,
      "outputs": [
        {
          "output_type": "execute_result",
          "data": {
            "text/plain": [
              "       data_entry  site_rid\n",
              "0         10388.0        18\n",
              "2          3197.0        44\n",
              "3          3197.0        44\n",
              "4          3197.0        44\n",
              "5          3197.0        44\n",
              "...           ...       ...\n",
              "59593     36976.0      7175\n",
              "59594     39993.0      3655\n",
              "59595     39993.0      4339\n",
              "59596     39993.0      3323\n",
              "59597     39993.0      3769\n",
              "\n",
              "[59300 rows x 2 columns]"
            ],
            "text/html": [
              "\n",
              "  <div id=\"df-47f6201a-5c6a-4813-911d-7631fe066c3b\">\n",
              "    <div class=\"colab-df-container\">\n",
              "      <div>\n",
              "<style scoped>\n",
              "    .dataframe tbody tr th:only-of-type {\n",
              "        vertical-align: middle;\n",
              "    }\n",
              "\n",
              "    .dataframe tbody tr th {\n",
              "        vertical-align: top;\n",
              "    }\n",
              "\n",
              "    .dataframe thead th {\n",
              "        text-align: right;\n",
              "    }\n",
              "</style>\n",
              "<table border=\"1\" class=\"dataframe\">\n",
              "  <thead>\n",
              "    <tr style=\"text-align: right;\">\n",
              "      <th></th>\n",
              "      <th>data_entry</th>\n",
              "      <th>site_rid</th>\n",
              "    </tr>\n",
              "  </thead>\n",
              "  <tbody>\n",
              "    <tr>\n",
              "      <th>0</th>\n",
              "      <td>10388.0</td>\n",
              "      <td>18</td>\n",
              "    </tr>\n",
              "    <tr>\n",
              "      <th>2</th>\n",
              "      <td>3197.0</td>\n",
              "      <td>44</td>\n",
              "    </tr>\n",
              "    <tr>\n",
              "      <th>3</th>\n",
              "      <td>3197.0</td>\n",
              "      <td>44</td>\n",
              "    </tr>\n",
              "    <tr>\n",
              "      <th>4</th>\n",
              "      <td>3197.0</td>\n",
              "      <td>44</td>\n",
              "    </tr>\n",
              "    <tr>\n",
              "      <th>5</th>\n",
              "      <td>3197.0</td>\n",
              "      <td>44</td>\n",
              "    </tr>\n",
              "    <tr>\n",
              "      <th>...</th>\n",
              "      <td>...</td>\n",
              "      <td>...</td>\n",
              "    </tr>\n",
              "    <tr>\n",
              "      <th>59593</th>\n",
              "      <td>36976.0</td>\n",
              "      <td>7175</td>\n",
              "    </tr>\n",
              "    <tr>\n",
              "      <th>59594</th>\n",
              "      <td>39993.0</td>\n",
              "      <td>3655</td>\n",
              "    </tr>\n",
              "    <tr>\n",
              "      <th>59595</th>\n",
              "      <td>39993.0</td>\n",
              "      <td>4339</td>\n",
              "    </tr>\n",
              "    <tr>\n",
              "      <th>59596</th>\n",
              "      <td>39993.0</td>\n",
              "      <td>3323</td>\n",
              "    </tr>\n",
              "    <tr>\n",
              "      <th>59597</th>\n",
              "      <td>39993.0</td>\n",
              "      <td>3769</td>\n",
              "    </tr>\n",
              "  </tbody>\n",
              "</table>\n",
              "<p>59300 rows × 2 columns</p>\n",
              "</div>\n",
              "      <button class=\"colab-df-convert\" onclick=\"convertToInteractive('df-47f6201a-5c6a-4813-911d-7631fe066c3b')\"\n",
              "              title=\"Convert this dataframe to an interactive table.\"\n",
              "              style=\"display:none;\">\n",
              "        \n",
              "  <svg xmlns=\"http://www.w3.org/2000/svg\" height=\"24px\"viewBox=\"0 0 24 24\"\n",
              "       width=\"24px\">\n",
              "    <path d=\"M0 0h24v24H0V0z\" fill=\"none\"/>\n",
              "    <path d=\"M18.56 5.44l.94 2.06.94-2.06 2.06-.94-2.06-.94-.94-2.06-.94 2.06-2.06.94zm-11 1L8.5 8.5l.94-2.06 2.06-.94-2.06-.94L8.5 2.5l-.94 2.06-2.06.94zm10 10l.94 2.06.94-2.06 2.06-.94-2.06-.94-.94-2.06-.94 2.06-2.06.94z\"/><path d=\"M17.41 7.96l-1.37-1.37c-.4-.4-.92-.59-1.43-.59-.52 0-1.04.2-1.43.59L10.3 9.45l-7.72 7.72c-.78.78-.78 2.05 0 2.83L4 21.41c.39.39.9.59 1.41.59.51 0 1.02-.2 1.41-.59l7.78-7.78 2.81-2.81c.8-.78.8-2.07 0-2.86zM5.41 20L4 18.59l7.72-7.72 1.47 1.35L5.41 20z\"/>\n",
              "  </svg>\n",
              "      </button>\n",
              "      \n",
              "  <style>\n",
              "    .colab-df-container {\n",
              "      display:flex;\n",
              "      flex-wrap:wrap;\n",
              "      gap: 12px;\n",
              "    }\n",
              "\n",
              "    .colab-df-convert {\n",
              "      background-color: #E8F0FE;\n",
              "      border: none;\n",
              "      border-radius: 50%;\n",
              "      cursor: pointer;\n",
              "      display: none;\n",
              "      fill: #1967D2;\n",
              "      height: 32px;\n",
              "      padding: 0 0 0 0;\n",
              "      width: 32px;\n",
              "    }\n",
              "\n",
              "    .colab-df-convert:hover {\n",
              "      background-color: #E2EBFA;\n",
              "      box-shadow: 0px 1px 2px rgba(60, 64, 67, 0.3), 0px 1px 3px 1px rgba(60, 64, 67, 0.15);\n",
              "      fill: #174EA6;\n",
              "    }\n",
              "\n",
              "    [theme=dark] .colab-df-convert {\n",
              "      background-color: #3B4455;\n",
              "      fill: #D2E3FC;\n",
              "    }\n",
              "\n",
              "    [theme=dark] .colab-df-convert:hover {\n",
              "      background-color: #434B5C;\n",
              "      box-shadow: 0px 1px 3px 1px rgba(0, 0, 0, 0.15);\n",
              "      filter: drop-shadow(0px 1px 2px rgba(0, 0, 0, 0.3));\n",
              "      fill: #FFFFFF;\n",
              "    }\n",
              "  </style>\n",
              "\n",
              "      <script>\n",
              "        const buttonEl =\n",
              "          document.querySelector('#df-47f6201a-5c6a-4813-911d-7631fe066c3b button.colab-df-convert');\n",
              "        buttonEl.style.display =\n",
              "          google.colab.kernel.accessAllowed ? 'block' : 'none';\n",
              "\n",
              "        async function convertToInteractive(key) {\n",
              "          const element = document.querySelector('#df-47f6201a-5c6a-4813-911d-7631fe066c3b');\n",
              "          const dataTable =\n",
              "            await google.colab.kernel.invokeFunction('convertToInteractive',\n",
              "                                                     [key], {});\n",
              "          if (!dataTable) return;\n",
              "\n",
              "          const docLinkHtml = 'Like what you see? Visit the ' +\n",
              "            '<a target=\"_blank\" href=https://colab.research.google.com/notebooks/data_table.ipynb>data table notebook</a>'\n",
              "            + ' to learn more about interactive tables.';\n",
              "          element.innerHTML = '';\n",
              "          dataTable['output_type'] = 'display_data';\n",
              "          await google.colab.output.renderOutput(dataTable, element);\n",
              "          const docLink = document.createElement('div');\n",
              "          docLink.innerHTML = docLinkHtml;\n",
              "          element.appendChild(docLink);\n",
              "        }\n",
              "      </script>\n",
              "    </div>\n",
              "  </div>\n",
              "  "
            ]
          },
          "metadata": {},
          "execution_count": 34
        }
      ]
    },
    {
      "cell_type": "code",
      "source": [
        "print(df['data_entry'].dtypes) \n",
        "non_ints = []\n",
        "df_dataentry_nonull = df[df['data_entry'].notnull()]\n",
        "for val in df_dataentry_nonull['data_entry']:\n",
        "    try:\n",
        "      int(val)\n",
        "    except ValueError:\n",
        "        non_ints.append(val)\n",
        "print(non_ints)"
      ],
      "metadata": {
        "colab": {
          "base_uri": "https://localhost:8080/"
        },
        "id": "alfHidZpwFNd",
        "outputId": "d4faad3f-526e-419d-c917-eb5b6f14ac5b"
      },
      "execution_count": 35,
      "outputs": [
        {
          "output_type": "stream",
          "name": "stdout",
          "text": [
            "float64\n",
            "[]\n"
          ]
        }
      ]
    },
    {
      "cell_type": "markdown",
      "metadata": {
        "id": "5lOhFY4itIrV"
      },
      "source": [
        "# participants"
      ]
    },
    {
      "cell_type": "markdown",
      "metadata": {
        "id": "vKWzqaQT5w26"
      },
      "source": [
        "[Units = Number of People] Number of people involved in the data collection event\n",
        "* Minimum value of 0 \n",
        "* Zero NaN values\n",
        "* Middle 50% range is 1-2 people\n",
        "* Maximum of 111 people"
      ]
    },
    {
      "cell_type": "code",
      "execution_count": 36,
      "metadata": {
        "colab": {
          "base_uri": "https://localhost:8080/"
        },
        "id": "VtAY26NL7ouq",
        "outputId": "a0593192-dac8-49f1-c1c7-6905f14d5f81"
      },
      "outputs": [
        {
          "output_type": "stream",
          "name": "stdout",
          "text": [
            "0\n",
            "63\n",
            "0.10570824524312897\n"
          ]
        }
      ],
      "source": [
        "print(df['participants'].isnull().sum()) # how many null values\n",
        "\n",
        "print(df['participants'].nunique()) # how many unique values\n",
        "print(df['participants'].nunique()/(rows)*100) # percentage unique values"
      ]
    },
    {
      "cell_type": "code",
      "source": [
        "df['participants'].describe()"
      ],
      "metadata": {
        "colab": {
          "base_uri": "https://localhost:8080/"
        },
        "id": "cyNP5c4bNhKP",
        "outputId": "60507bda-c99a-4c75-aad5-c7ceaf8b89eb"
      },
      "execution_count": 37,
      "outputs": [
        {
          "output_type": "execute_result",
          "data": {
            "text/plain": [
              "count    59598.000000\n",
              "mean         2.094869\n",
              "std          3.692220\n",
              "min          0.000000\n",
              "25%          1.000000\n",
              "50%          1.000000\n",
              "75%          2.000000\n",
              "max        111.000000\n",
              "Name: participants, dtype: float64"
            ]
          },
          "metadata": {},
          "execution_count": 37
        }
      ]
    },
    {
      "cell_type": "code",
      "source": [
        "df_participants_lower75 = df.loc[(df['participants'] <= 2.0)]\n",
        "\n",
        "fig,ax=plt.subplots(1,1)\n",
        "plt.hist(df_participants_lower75['participants'], bins='auto')\n",
        "ax.set(xlabel='Number of Participants at Event', ylabel='Number of Events', title='Histogram of participants Excluding Outliers')\n",
        "plt.show()"
      ],
      "metadata": {
        "colab": {
          "base_uri": "https://localhost:8080/",
          "height": 295
        },
        "id": "UQzIp9BwA6pl",
        "outputId": "13bdb2a2-5bc2-450f-a0b7-fe99f039c89a"
      },
      "execution_count": 38,
      "outputs": [
        {
          "output_type": "display_data",
          "data": {
            "text/plain": [
              "<Figure size 432x288 with 1 Axes>"
            ],
            "image/png": "[encoded data removed]"
          },
          "metadata": {
            "needs_background": "light"
          }
        }
      ]
    },
    {
      "cell_type": "code",
      "source": [
        "df_participants_outliers = df.loc[(df['participants'] > 2.0)]\n",
        "\n",
        "df_participants_outliers_vc = df_participants_outliers['participants'].value_counts()\n",
        "df_participants_outliers_vc = df_participants_outliers_vc.to_frame()\n",
        "df_participants_outliers_vc.iloc[:,0]\n",
        "\n",
        "fig,ax=plt.subplots(1,1)\n",
        "ax.bar(df_participants_outliers_vc.index, df_participants_outliers_vc.iloc[:,0])\n",
        "ax.set(xlabel='Number of Participants at Event', ylabel='Number of Events', title='Histogram of participants Greater than 2')\n",
        "plt.show()"
      ],
      "metadata": {
        "colab": {
          "base_uri": "https://localhost:8080/",
          "height": 295
        },
        "id": "3PzRfEP4B4qw",
        "outputId": "6b0eb7e1-91b0-4a03-d465-0680ca1a9462"
      },
      "execution_count": 39,
      "outputs": [
        {
          "output_type": "display_data",
          "data": {
            "text/plain": [
              "<Figure size 432x288 with 1 Axes>"
            ],
            "image/png": "[encoded data removed]"
          },
          "metadata": {
            "needs_background": "light"
          }
        }
      ]
    }
  ],
  "metadata": {
    "colab": {
      "collapsed_sections": [],
      "name": "data_dictionary_version_4_5.ipynb",
      "provenance": [],
      "include_colab_link": true
    },
    "kernelspec": {
      "display_name": "Python 3",
      "name": "python3"
    },
    "language_info": {
      "name": "python"
    }
  },
  "nbformat": 4,
  "nbformat_minor": 0
}